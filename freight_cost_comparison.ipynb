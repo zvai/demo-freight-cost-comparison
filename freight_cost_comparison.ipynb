{
 "cells": [
  {
   "cell_type": "code",
   "execution_count": 2,
   "id": "olympic-specialist",
   "metadata": {},
   "outputs": [],
   "source": [
    "import numpy as np\n",
    "import matplotlib.pyplot as plt\n",
    "import matplotlib.colors\n",
    "import seaborn as sns; sns.set_theme()\n",
    "\n",
    "from ipywidgets import interact, widgets"
   ]
  },
  {
   "cell_type": "code",
   "execution_count": 3,
   "id": "extreme-street",
   "metadata": {},
   "outputs": [],
   "source": [
    "ocean_price = 3000"
   ]
  },
  {
   "cell_type": "code",
   "execution_count": 4,
   "id": "blond-acquisition",
   "metadata": {},
   "outputs": [],
   "source": [
    "mode_days = {\n",
    "    \"ocean\": 30,\n",
    "    \"air\": 3,\n",
    "    \"zv\": 15,\n",
    "}\n",
    "mode_delays = {\n",
    "    \"ocean\": 15,\n",
    "    \"air\": 5,\n",
    "    \"zv\": 1,\n",
    "}\n",
    "mode_price = {\n",
    "    \"ocean\": ocean_price,\n",
    "    \"air\": 6*ocean_price,\n",
    "    \"zv\": 2*ocean_price,\n",
    "}"
   ]
  },
  {
   "cell_type": "code",
   "execution_count": 5,
   "id": "dynamic-cigarette",
   "metadata": {},
   "outputs": [],
   "source": [
    "def inventory_cost(teu_value, irr, mode, delays=0):\n",
    "    return teu_value*(irr/(100*365))*(mode_days[mode] + delays) + mode_price[mode]"
   ]
  },
  {
   "cell_type": "code",
   "execution_count": 7,
   "id": "initial-branch",
   "metadata": {},
   "outputs": [
    {
     "data": {
      "application/vnd.jupyter.widget-view+json": {
       "model_id": "e0ad11adb7f94d26b80da5837d7f5143",
       "version_major": 2,
       "version_minor": 0
      },
      "text/plain": [
       "interactive(children=(IntSlider(value=500, description='cargo_value_K', max=4000, min=200), IntSlider(value=15…"
      ]
     },
     "metadata": {},
     "output_type": "display_data"
    }
   ],
   "source": [
    "cargo_value_slider = 500000\n",
    "irr_slider = 15\n",
    "\n",
    "def interactive_cost(cargo_value_K, IRR, delays_air, delays_ocean):\n",
    "    fig = plt.figure()\n",
    "    fig.set_figheight(5)\n",
    "    fig.set_figwidth(4)\n",
    "    cost = {}\n",
    "    for mode, days, price in zip(mode_days.keys(), mode_days.values(), mode_price.values()):\n",
    "        if mode == \"air\":\n",
    "            delays = delays_air\n",
    "        elif mode == \"ocean\":\n",
    "            delays = delays_ocean\n",
    "        else:\n",
    "            delays = 0\n",
    "        cost[mode] = inventory_cost(cargo_value_K*1000, IRR, mode, delays) / 1000\n",
    "    sns.set()\n",
    "    ax = sns.barplot(x=list(cost.keys()), y=list(cost.values()))\n",
    "    ax.figsize=(1, 5)\n",
    "    \n",
    "\n",
    "interact(interactive_cost,\n",
    "         cargo_value_K=widgets.IntSlider(min=200,max=4000,value=500),\n",
    "         IRR=widgets.IntSlider(min=1,max=40,value=15),\n",
    "         delays_air=widgets.IntSlider(min=0,max=30,value=0),\n",
    "         delays_ocean=widgets.IntSlider(min=0,max=40,value=0),\n",
    "        );"
   ]
  },
  {
   "cell_type": "code",
   "execution_count": null,
   "id": "processed-locator",
   "metadata": {},
   "outputs": [],
   "source": []
  },
  {
   "cell_type": "code",
   "execution_count": null,
   "id": "smaller-movement",
   "metadata": {},
   "outputs": [],
   "source": []
  }
 ],
 "metadata": {
  "kernelspec": {
   "display_name": "Python 3",
   "language": "python",
   "name": "python3"
  },
  "language_info": {
   "codemirror_mode": {
    "name": "ipython",
    "version": 3
   },
   "file_extension": ".py",
   "mimetype": "text/x-python",
   "name": "python",
   "nbconvert_exporter": "python",
   "pygments_lexer": "ipython3",
   "version": "3.8.10"
  }
 },
 "nbformat": 4,
 "nbformat_minor": 5
}
